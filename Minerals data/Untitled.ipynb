{
 "cells": [
  {
   "cell_type": "code",
   "execution_count": 1,
   "id": "985a4ea4-0d02-43e5-9b75-e82f834dc8a6",
   "metadata": {},
   "outputs": [],
   "source": [
    "import pandas as pd"
   ]
  },
  {
   "cell_type": "code",
   "execution_count": 2,
   "id": "0db8f207-57bc-4d7e-a05c-9ab84c92921b",
   "metadata": {},
   "outputs": [],
   "source": [
    "data = pd.read_csv(\"Country raw mineral production.csv\")"
   ]
  },
  {
   "cell_type": "code",
   "execution_count": 3,
   "id": "16516503-188a-47bc-92cb-0d833d19c084",
   "metadata": {},
   "outputs": [],
   "source": [
    "df = data.reset_index()  # make sure indexes pair with number of rows\n",
    "\n",
    "for index, row in df.iterrows():\n",
    "    if row['Mineral'] == 'Gold' or row['Mineral'] == 'Silver'or row['Mineral'] == 'Palladium'or row['Mineral'] == 'Platinum':\n",
    "        df.iat[index,df.columns.get_loc('Count')] = df.iat[index,df.columns.get_loc('Count')]/1000"
   ]
  },
  {
   "cell_type": "code",
   "execution_count": 4,
   "id": "e36de29b-ab14-4490-a91d-5b299b2697f1",
   "metadata": {},
   "outputs": [],
   "source": [
    "df.to_csv('Australia yearly count.csv') "
   ]
  },
  {
   "cell_type": "markdown",
   "id": "66e031c7-9a73-4263-ba22-a5f93d5cc34e",
   "metadata": {},
   "source": [
    "# Palladium"
   ]
  },
  {
   "cell_type": "code",
   "execution_count": 9,
   "id": "a4d1a1b0-1b9f-431f-a7d3-fceedae04717",
   "metadata": {},
   "outputs": [],
   "source": [
    "data = pd.read_csv(\"6.3a. Development_status palladium.csv\")"
   ]
  },
  {
   "cell_type": "code",
   "execution_count": 10,
   "id": "58a3bc3d-41ac-4006-ab43-b89d78cf0467",
   "metadata": {},
   "outputs": [
    {
     "name": "stdout",
     "output_type": "stream",
     "text": [
      "           Development status unit   2016   2017   2018   2019   2020\n",
      "0        Developed Countries    kg  35811  34378  36739  38757  37267\n",
      "1       Developing Countries    kg  89795  93935  94023  93624  80454\n",
      "2  Least Developed Countries    kg      0      0      0      0      0\n",
      "3       Transition Countries    kg  86523  76320  92625  93028  82181\n"
     ]
    }
   ],
   "source": [
    "print(data)"
   ]
  },
  {
   "cell_type": "code",
   "execution_count": 12,
   "id": "67ab3516-895e-45fd-bcc4-ab5a232ddee9",
   "metadata": {},
   "outputs": [],
   "source": [
    "status = data['Development status']"
   ]
  },
  {
   "cell_type": "code",
   "execution_count": 14,
   "id": "49d5da68-9923-4a2c-a6c9-5e73ce59564d",
   "metadata": {},
   "outputs": [
    {
     "name": "stdout",
     "output_type": "stream",
     "text": [
      "4\n"
     ]
    }
   ],
   "source": [
    "print(len(status))"
   ]
  },
  {
   "cell_type": "code",
   "execution_count": 25,
   "id": "a9a3a8ca-81dd-49e7-baca-6235854cd18b",
   "metadata": {},
   "outputs": [],
   "source": [
    "all_count = {}\n",
    "all_count['Development status'] = []\n",
    "all_count['count'] = []\n",
    "all_count['year'] = []\n",
    "for i in range(len(status)): \n",
    "    # count = data[data['country']==country]\n",
    "    year = 2016\n",
    "    for j in range(5):\n",
    "        all_count['Development status'].append(data['Development status'][i])\n",
    "        all_count['year'].append(year)\n",
    "        # print(year)\n",
    "        year += 1\n",
    "        # print(data.iat[i,j+2])\n",
    "        all_count['count'].append(data.iat[i,j+2])"
   ]
  },
  {
   "cell_type": "code",
   "execution_count": 26,
   "id": "26ac60ef-d5a4-460e-9201-afb1a36ade2e",
   "metadata": {},
   "outputs": [
    {
     "name": "stdout",
     "output_type": "stream",
     "text": [
      "{'Development status': ['Developed Countries ', 'Developed Countries ', 'Developed Countries ', 'Developed Countries ', 'Developed Countries ', 'Developing Countries ', 'Developing Countries ', 'Developing Countries ', 'Developing Countries ', 'Developing Countries ', 'Least Developed Countries ', 'Least Developed Countries ', 'Least Developed Countries ', 'Least Developed Countries ', 'Least Developed Countries ', 'Transition Countries ', 'Transition Countries ', 'Transition Countries ', 'Transition Countries ', 'Transition Countries '], 'count': [35811, 34378, 36739, 38757, 37267, 89795, 93935, 94023, 93624, 80454, 0, 0, 0, 0, 0, 86523, 76320, 92625, 93028, 82181], 'year': [2016, 2017, 2018, 2019, 2020, 2016, 2017, 2018, 2019, 2020, 2016, 2017, 2018, 2019, 2020, 2016, 2017, 2018, 2019, 2020]}\n"
     ]
    }
   ],
   "source": [
    "print(all_count)"
   ]
  },
  {
   "cell_type": "code",
   "execution_count": 27,
   "id": "e139babb-d519-4db1-8ee0-47e45f828232",
   "metadata": {},
   "outputs": [],
   "source": [
    "df = pd.DataFrame(all_count)"
   ]
  },
  {
   "cell_type": "code",
   "execution_count": 28,
   "id": "b1c3316a-eee3-488f-813d-356225e136f7",
   "metadata": {},
   "outputs": [],
   "source": [
    "df.to_csv('palladium development status.csv') "
   ]
  },
  {
   "cell_type": "markdown",
   "id": "b9719c5b-0c6f-4181-8798-883af28f1f76",
   "metadata": {},
   "source": [
    "## Ranking"
   ]
  },
  {
   "cell_type": "code",
   "execution_count": 42,
   "id": "0e11ae04-3209-4633-b144-5b9c667c73f9",
   "metadata": {},
   "outputs": [],
   "source": [
    "data = pd.read_csv(\"palladium rank.csv\")"
   ]
  },
  {
   "cell_type": "code",
   "execution_count": 43,
   "id": "21d4b92b-fa35-49e4-b9f4-f175e79f7b22",
   "metadata": {},
   "outputs": [
    {
     "name": "stdout",
     "output_type": "stream",
     "text": [
      "          Country unit   2016   2017   2018   2019   2020  16  17  18  19  20\n",
      "0       Australia   kg    610    610    430    390    420   8   8   8   8   8\n",
      "1          Canada   kg  21200  19140  20880  23340  21430   3   3   3   3   3\n",
      "2           China   kg   1300   1400   1300   1300   1300   6   6   6   6   6\n",
      "3         Finland   kg    901   1021   1157    699    858   7   7   7   7   7\n",
      "4          Poland   kg     30      7      5      5      4   9  10  10  11  11\n",
      "5          Russia   kg  86500  76270  92570  92900  81990   1   2   1   1   1\n",
      "6          Serbia   kg     23     50     55    100    100  10   9   9   9   9\n",
      "7    South Africa   kg  76273  80713  80629  80684  66264   2   1   2   2   2\n",
      "8   United States   kg  13070  13600  14267  14323  14555   4   4   4   4   4\n",
      "9      Uzbekistan   kg      0      0      0     28     91  11  11  11  10  10\n",
      "10       Zimbabwe   kg  12222  11822  12094  11640  12890   5   5   5   5   5\n"
     ]
    }
   ],
   "source": [
    "print(data)"
   ]
  },
  {
   "cell_type": "code",
   "execution_count": 44,
   "id": "9446a6e4-2549-4c63-97d6-8bf0072a84c2",
   "metadata": {},
   "outputs": [
    {
     "name": "stdout",
     "output_type": "stream",
     "text": [
      "8\n"
     ]
    }
   ],
   "source": [
    "print(data.iat[0,0+7])"
   ]
  },
  {
   "cell_type": "code",
   "execution_count": 45,
   "id": "d18ab12b-fbcf-4e70-9017-b8c6086c7889",
   "metadata": {},
   "outputs": [],
   "source": [
    "all_count = {}\n",
    "all_count['Country'] = []\n",
    "all_count['rank'] = []\n",
    "all_count['year'] = []\n",
    "for i in range(len(data['Country'])): \n",
    "    # count = data[data['country']==country]\n",
    "    year = 2016\n",
    "    for j in range(5):\n",
    "        all_count['Country'].append(data['Country'][i])\n",
    "        all_count['year'].append(year)\n",
    "        # print(year)\n",
    "        year += 1\n",
    "        # print(data.iat[i,j+2])\n",
    "        all_count['rank'].append(data.iat[i,j+7])"
   ]
  },
  {
   "cell_type": "code",
   "execution_count": 46,
   "id": "49a3bb55-0e23-4c09-b508-eca2d091040d",
   "metadata": {},
   "outputs": [],
   "source": [
    "df = pd.DataFrame(all_count)"
   ]
  },
  {
   "cell_type": "code",
   "execution_count": 48,
   "id": "b47ba7f7-ebfb-4c31-840e-ecb00c0647a3",
   "metadata": {},
   "outputs": [],
   "source": [
    "# print(df)"
   ]
  },
  {
   "cell_type": "code",
   "execution_count": null,
   "id": "8fd92bca-6b0c-488c-ad4f-ad2c5865f0e2",
   "metadata": {},
   "outputs": [],
   "source": [
    "df.to_csv('palladium rank reformatted.csv') "
   ]
  }
 ],
 "metadata": {
  "kernelspec": {
   "display_name": "Python 3 (ipykernel)",
   "language": "python",
   "name": "python3"
  },
  "language_info": {
   "codemirror_mode": {
    "name": "ipython",
    "version": 3
   },
   "file_extension": ".py",
   "mimetype": "text/x-python",
   "name": "python",
   "nbconvert_exporter": "python",
   "pygments_lexer": "ipython3",
   "version": "3.8.12"
  }
 },
 "nbformat": 4,
 "nbformat_minor": 5
}
