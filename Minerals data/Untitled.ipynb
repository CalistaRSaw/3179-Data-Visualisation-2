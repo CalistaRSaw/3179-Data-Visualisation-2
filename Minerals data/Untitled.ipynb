{
 "cells": [
  {
   "cell_type": "code",
   "execution_count": 1,
   "id": "feb77304-c64a-400f-b298-74cbf9943592",
   "metadata": {},
   "outputs": [],
   "source": [
    "import pandas as pd"
   ]
  },
  {
   "cell_type": "code",
   "execution_count": 2,
   "id": "e2248c58-1e3d-4d5f-9375-0562b726eee0",
   "metadata": {},
   "outputs": [],
   "source": [
    "data_count = pd.read_csv(\"mineral country count.csv\")"
   ]
  },
  {
   "cell_type": "code",
   "execution_count": 3,
   "id": "679093d1-9ffc-4c30-9653-bfd237829942",
   "metadata": {},
   "outputs": [],
   "source": [
    "data_area = pd.read_csv(\"Area Data.csv\")"
   ]
  },
  {
   "cell_type": "code",
   "execution_count": 4,
   "id": "d3959f3c-2124-42de-96b6-ad44b530709f",
   "metadata": {},
   "outputs": [],
   "source": [
    "# # data_count[\"area\"] = []\n",
    "# for i in data_count['country']:\n",
    "#     a = data_area.loc[data_area['country'] == i]\n",
    "#     print(i)"
   ]
  },
  {
   "cell_type": "code",
   "execution_count": 5,
   "id": "1251b936-4bbf-45eb-a711-df046ca60ab2",
   "metadata": {},
   "outputs": [],
   "source": [
    "result = pd.merge(data_count, data_area, how = 'inner', on = 'country')"
   ]
  },
  {
   "cell_type": "code",
   "execution_count": null,
   "id": "cd32d56d-730d-4061-8e83-9503338df78b",
   "metadata": {},
   "outputs": [],
   "source": []
  },
  {
   "cell_type": "code",
   "execution_count": 37,
   "id": "b12b0b1b-59a2-443e-8052-25fbe77e5629",
   "metadata": {},
   "outputs": [],
   "source": [
    "result.to_csv('merge count area.csv') "
   ]
  },
  {
   "cell_type": "code",
   "execution_count": null,
   "id": "85265941-8072-4c1e-a83a-af79e89d1468",
   "metadata": {},
   "outputs": [],
   "source": []
  }
 ],
 "metadata": {
  "kernelspec": {
   "display_name": "Python 3 (ipykernel)",
   "language": "python",
   "name": "python3"
  },
  "language_info": {
   "codemirror_mode": {
    "name": "ipython",
    "version": 3
   },
   "file_extension": ".py",
   "mimetype": "text/x-python",
   "name": "python",
   "nbconvert_exporter": "python",
   "pygments_lexer": "ipython3",
   "version": "3.8.12"
  }
 },
 "nbformat": 4,
 "nbformat_minor": 5
}
