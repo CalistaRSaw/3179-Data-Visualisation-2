{
 "cells": [
  {
   "cell_type": "code",
   "execution_count": 1,
   "id": "985a4ea4-0d02-43e5-9b75-e82f834dc8a6",
   "metadata": {},
   "outputs": [],
   "source": [
    "import pandas as pd"
   ]
  },
  {
   "cell_type": "code",
   "execution_count": 2,
   "id": "0db8f207-57bc-4d7e-a05c-9ab84c92921b",
   "metadata": {},
   "outputs": [],
   "source": [
    "data = pd.read_csv(\"Country raw mineral production.csv\")"
   ]
  },
  {
   "cell_type": "code",
   "execution_count": 3,
   "id": "16516503-188a-47bc-92cb-0d833d19c084",
   "metadata": {},
   "outputs": [],
   "source": [
    "df = data.reset_index()  # make sure indexes pair with number of rows\n",
    "\n",
    "for index, row in df.iterrows():\n",
    "    if row['Mineral'] == 'Gold' or row['Mineral'] == 'Silver'or row['Mineral'] == 'Palladium'or row['Mineral'] == 'Platinum':\n",
    "        df.iat[index,df.columns.get_loc('Count')] = df.iat[index,df.columns.get_loc('Count')]/1000"
   ]
  },
  {
   "cell_type": "code",
   "execution_count": 4,
   "id": "e36de29b-ab14-4490-a91d-5b299b2697f1",
   "metadata": {},
   "outputs": [],
   "source": [
    "df.to_csv('Australia yearly count.csv') "
   ]
  },
  {
   "cell_type": "markdown",
   "id": "66e031c7-9a73-4263-ba22-a5f93d5cc34e",
   "metadata": {},
   "source": [
    "# Palladium"
   ]
  },
  {
   "cell_type": "code",
   "execution_count": 9,
   "id": "a4d1a1b0-1b9f-431f-a7d3-fceedae04717",
   "metadata": {},
   "outputs": [],
   "source": [
    "data = pd.read_csv(\"6.3a. Development_status palladium.csv\")"
   ]
  },
  {
   "cell_type": "code",
   "execution_count": 10,
   "id": "58a3bc3d-41ac-4006-ab43-b89d78cf0467",
   "metadata": {},
   "outputs": [
    {
     "name": "stdout",
     "output_type": "stream",
     "text": [
      "           Development status unit   2016   2017   2018   2019   2020\n",
      "0        Developed Countries    kg  35811  34378  36739  38757  37267\n",
      "1       Developing Countries    kg  89795  93935  94023  93624  80454\n",
      "2  Least Developed Countries    kg      0      0      0      0      0\n",
      "3       Transition Countries    kg  86523  76320  92625  93028  82181\n"
     ]
    }
   ],
   "source": [
    "print(data)"
   ]
  },
  {
   "cell_type": "code",
   "execution_count": 12,
   "id": "67ab3516-895e-45fd-bcc4-ab5a232ddee9",
   "metadata": {},
   "outputs": [],
   "source": [
    "status = data['Development status']"
   ]
  },
  {
   "cell_type": "code",
   "execution_count": 14,
   "id": "49d5da68-9923-4a2c-a6c9-5e73ce59564d",
   "metadata": {},
   "outputs": [
    {
     "name": "stdout",
     "output_type": "stream",
     "text": [
      "4\n"
     ]
    }
   ],
   "source": [
    "print(len(status))"
   ]
  },
  {
   "cell_type": "code",
   "execution_count": 25,
   "id": "a9a3a8ca-81dd-49e7-baca-6235854cd18b",
   "metadata": {},
   "outputs": [],
   "source": [
    "all_count = {}\n",
    "all_count['Development status'] = []\n",
    "all_count['count'] = []\n",
    "all_count['year'] = []\n",
    "for i in range(len(status)): \n",
    "    # count = data[data['country']==country]\n",
    "    year = 2016\n",
    "    for j in range(5):\n",
    "        all_count['Development status'].append(data['Development status'][i])\n",
    "        all_count['year'].append(year)\n",
    "        # print(year)\n",
    "        year += 1\n",
    "        # print(data.iat[i,j+2])\n",
    "        all_count['count'].append(data.iat[i,j+2])"
   ]
  },
  {
   "cell_type": "code",
   "execution_count": 26,
   "id": "26ac60ef-d5a4-460e-9201-afb1a36ade2e",
   "metadata": {},
   "outputs": [
    {
     "name": "stdout",
     "output_type": "stream",
     "text": [
      "{'Development status': ['Developed Countries ', 'Developed Countries ', 'Developed Countries ', 'Developed Countries ', 'Developed Countries ', 'Developing Countries ', 'Developing Countries ', 'Developing Countries ', 'Developing Countries ', 'Developing Countries ', 'Least Developed Countries ', 'Least Developed Countries ', 'Least Developed Countries ', 'Least Developed Countries ', 'Least Developed Countries ', 'Transition Countries ', 'Transition Countries ', 'Transition Countries ', 'Transition Countries ', 'Transition Countries '], 'count': [35811, 34378, 36739, 38757, 37267, 89795, 93935, 94023, 93624, 80454, 0, 0, 0, 0, 0, 86523, 76320, 92625, 93028, 82181], 'year': [2016, 2017, 2018, 2019, 2020, 2016, 2017, 2018, 2019, 2020, 2016, 2017, 2018, 2019, 2020, 2016, 2017, 2018, 2019, 2020]}\n"
     ]
    }
   ],
   "source": [
    "print(all_count)"
   ]
  },
  {
   "cell_type": "code",
   "execution_count": 27,
   "id": "e139babb-d519-4db1-8ee0-47e45f828232",
   "metadata": {},
   "outputs": [],
   "source": [
    "df = pd.DataFrame(all_count)"
   ]
  },
  {
   "cell_type": "code",
   "execution_count": 28,
   "id": "b1c3316a-eee3-488f-813d-356225e136f7",
   "metadata": {},
   "outputs": [],
   "source": [
    "df.to_csv('palladium development status.csv') "
   ]
  },
  {
   "cell_type": "code",
   "execution_count": null,
   "id": "e465835e-d099-4132-a092-9bd828da4e53",
   "metadata": {},
   "outputs": [],
   "source": []
  }
 ],
 "metadata": {
  "kernelspec": {
   "display_name": "Python 3 (ipykernel)",
   "language": "python",
   "name": "python3"
  },
  "language_info": {
   "codemirror_mode": {
    "name": "ipython",
    "version": 3
   },
   "file_extension": ".py",
   "mimetype": "text/x-python",
   "name": "python",
   "nbconvert_exporter": "python",
   "pygments_lexer": "ipython3",
   "version": "3.8.12"
  }
 },
 "nbformat": 4,
 "nbformat_minor": 5
}
