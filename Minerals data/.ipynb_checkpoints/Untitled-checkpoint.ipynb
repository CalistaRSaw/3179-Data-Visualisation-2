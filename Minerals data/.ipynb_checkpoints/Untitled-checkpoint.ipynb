{
 "cells": [
  {
   "cell_type": "code",
   "execution_count": 1,
   "id": "985a4ea4-0d02-43e5-9b75-e82f834dc8a6",
   "metadata": {},
   "outputs": [],
   "source": [
    "import pandas as pd"
   ]
  },
  {
   "cell_type": "code",
   "execution_count": 12,
   "id": "0db8f207-57bc-4d7e-a05c-9ab84c92921b",
   "metadata": {},
   "outputs": [],
   "source": [
    "data = pd.read_csv(\"Country raw mineral production.csv\")"
   ]
  },
  {
   "cell_type": "code",
   "execution_count": 13,
   "id": "16516503-188a-47bc-92cb-0d833d19c084",
   "metadata": {},
   "outputs": [
    {
     "name": "stdout",
     "output_type": "stream",
     "text": [
      "290.767\n",
      "0.61\n",
      "0.152\n",
      "1418.219\n",
      "292.022\n",
      "0.61\n",
      "0.155\n",
      "1120.175\n",
      "313.028\n",
      "0.43\n",
      "0.11\n",
      "1254.48\n",
      "326.304\n",
      "0.39\n",
      "0.095\n",
      "1325.089\n",
      "327.889\n",
      "0.42\n",
      "0.1\n",
      "1337.344\n"
     ]
    }
   ],
   "source": [
    "df = data.reset_index()  # make sure indexes pair with number of rows\n",
    "\n",
    "for index, row in df.iterrows():\n",
    "    if row['Mineral'] == 'Gold' or row['Mineral'] == 'Silver'or row['Mineral'] == 'Palladium'or row['Mineral'] == 'Platinum':\n",
    "        df.iat[index,df.columns.get_loc('Count')] = df.iat[index,df.columns.get_loc('Count')]/1000"
   ]
  },
  {
   "cell_type": "code",
   "execution_count": null,
   "id": "e36de29b-ab14-4490-a91d-5b299b2697f1",
   "metadata": {},
   "outputs": [],
   "source": []
  }
 ],
 "metadata": {
  "kernelspec": {
   "display_name": "Python 3 (ipykernel)",
   "language": "python",
   "name": "python3"
  },
  "language_info": {
   "codemirror_mode": {
    "name": "ipython",
    "version": 3
   },
   "file_extension": ".py",
   "mimetype": "text/x-python",
   "name": "python",
   "nbconvert_exporter": "python",
   "pygments_lexer": "ipython3",
   "version": "3.8.12"
  }
 },
 "nbformat": 4,
 "nbformat_minor": 5
}
