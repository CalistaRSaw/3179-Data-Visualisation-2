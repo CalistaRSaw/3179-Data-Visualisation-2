{
 "cells": [
  {
   "cell_type": "code",
   "execution_count": 1,
   "id": "feb77304-c64a-400f-b298-74cbf9943592",
   "metadata": {},
   "outputs": [],
   "source": [
    "import pandas as pd"
   ]
  },
  {
   "cell_type": "code",
   "execution_count": 3,
   "id": "e2248c58-1e3d-4d5f-9375-0562b726eee0",
   "metadata": {},
   "outputs": [],
   "source": [
    "data_count = pd.read_csv(\"mineral count countries.csv\")"
   ]
  },
  {
   "cell_type": "code",
   "execution_count": 5,
   "id": "679093d1-9ffc-4c30-9653-bfd237829942",
   "metadata": {},
   "outputs": [],
   "source": [
    "data_area = pd.read_csv(\"Area Data.csv\")"
   ]
  },
  {
   "cell_type": "code",
   "execution_count": null,
   "id": "d3959f3c-2124-42de-96b6-ad44b530709f",
   "metadata": {},
   "outputs": [],
   "source": [
    "result = pd.merge(data_count, data_area, on=\"country\")"
   ]
  }
 ],
 "metadata": {
  "kernelspec": {
   "display_name": "Python 3 (ipykernel)",
   "language": "python",
   "name": "python3"
  },
  "language_info": {
   "codemirror_mode": {
    "name": "ipython",
    "version": 3
   },
   "file_extension": ".py",
   "mimetype": "text/x-python",
   "name": "python",
   "nbconvert_exporter": "python",
   "pygments_lexer": "ipython3",
   "version": "3.8.12"
  }
 },
 "nbformat": 4,
 "nbformat_minor": 5
}
