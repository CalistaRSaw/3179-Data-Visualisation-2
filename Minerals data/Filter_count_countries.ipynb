{
 "cells": [
  {
   "cell_type": "code",
   "execution_count": 1,
   "id": "88af2f19-eb69-43d7-9719-9eaef93ba356",
   "metadata": {},
   "outputs": [],
   "source": [
    "import pandas as pd"
   ]
  },
  {
   "cell_type": "code",
   "execution_count": 2,
   "id": "14420013-b58b-490f-8de2-8631286e22f4",
   "metadata": {},
   "outputs": [],
   "source": [
    "data = pd.read_csv(\"Mineral count countries.csv\")"
   ]
  },
  {
   "cell_type": "code",
   "execution_count": 3,
   "id": "c78b92a1-2cba-4810-8e21-b81bc80f78d4",
   "metadata": {},
   "outputs": [
    {
     "name": "stdout",
     "output_type": "stream",
     "text": [
      "['United States' 'Argentina' 'Ghana' 'Oman' 'Angola' 'Namibia' 'Botswana'\n",
      " 'Indonesia' 'China' 'Gabon' 'Kenya' 'Algeria' 'Burma'\n",
      " 'Congo (Brazzaville)' 'Egypt' 'India' 'Korea, South' 'Iran' 'Israel'\n",
      " \"Cote D'Ivoire\" 'Morocco' 'Malaysia' 'Mozambique' 'Pakistan'\n",
      " 'Philippines' 'Tanzania' 'Mali' 'Turkey' 'Peru' 'Bolivia' 'Mexico'\n",
      " 'Canada' 'Costa Rica' 'Russia' 'Brazil' 'Kazakhstan' 'Germany' 'Slovenia'\n",
      " 'Austria' 'France' 'United Kingdom' 'Spain' 'Tunisia' 'Zimbabwe'\n",
      " 'South Africa' 'Australia' 'Azerbaijan' 'Sweden' 'Norway' 'Bulgaria'\n",
      " 'Hungary' 'Western Sahara' 'Burkina Faso' 'Uganda' 'New Zealand'\n",
      " 'Denmark' 'Somalia' 'Mauritania' 'Niger' 'Senegal' 'Sierra Leone' 'Togo'\n",
      " 'Zambia' 'Cyprus' 'Iraq' 'Japan' 'Jordan' 'Taiwan' 'Thailand' 'Guinea'\n",
      " 'Congo (Kinshasa)' 'Mongolia' 'Guatemala' 'Poland' 'Laos' 'Italy'\n",
      " 'Guyana' 'Jamaica' 'Venezuela' 'Fiji' 'Suriname' 'Cameroon'\n",
      " 'Solomon Islands' 'Ireland' 'Malawi' 'Afghanistan' 'Finland' 'Sri Lanka'\n",
      " 'Chile' 'Bosnia and Herzegovina' 'Montenegro' 'Libya' 'Saudi Arabia'\n",
      " 'Uzbekistan' 'Greece' 'Ecuador' 'Serbia' 'Ethiopia' 'Slovakia' 'Albania'\n",
      " 'Czech Republic' 'Romania' 'Ukraine' 'Macedonia' 'Colombia' 'Cuba'\n",
      " 'Burundi' 'Korea, North' 'Syria' 'Estonia' 'Nauru' 'Portugal'\n",
      " 'Papua New Guinea' 'Georgia' 'Tajikistan' 'Kyrgyzstan' 'Armenia'\n",
      " 'Madagascar' 'Swaziland' 'Honduras' 'Haiti' 'Dominican Republic' 'Sudan'\n",
      " 'Panama' 'Belize' 'El Salvador' 'Nicaragua' 'Uruguay'\n",
      " 'Saint Kitts and Nevis' 'Saint Vincent and the Grenadines' 'Saint Lucia'\n",
      " 'Dominica' 'Antigua and Barbuda' 'Bahamas, the' 'Bahamas, The'\n",
      " 'Netherlands' 'Barbados' 'Paraguay' 'Cambodia' 'Vietnam' 'Lesotho'\n",
      " 'Liberia' 'Vanuatu' 'Palau' 'Antarctica' 'Rwanda' 'Croatia'\n",
      " 'Turkmenistan' 'Nigeria' 'Belgium' 'Belarus' 'Qatar' 'Benin' 'Bangladesh'\n",
      " 'Nepal' 'Lebanon' 'Switzerland' 'Luxembourg' 'United Arab Emirates'\n",
      " 'Singapore' 'Lithuania' 'Trinidad and Tobago' 'Bahrain' 'Gambia, the'\n",
      " 'Iceland' 'Russia, Kazakhstan']\n"
     ]
    }
   ],
   "source": [
    "unique_countries = pd.unique(data['country'])\n",
    "print(unique_countries)"
   ]
  },
  {
   "cell_type": "code",
   "execution_count": 19,
   "id": "c23c7832-87e9-4e59-adf4-1bf4bc00ed2b",
   "metadata": {},
   "outputs": [],
   "source": [
    "all_count = {}\n",
    "all_count['country'] = []\n",
    "all_count['count'] = []\n",
    "for country in unique_countries:\n",
    "    count = data[data['country']==country]\n",
    "    all_count['country'].append(country)\n",
    "    all_count['count'].append(len(count))"
   ]
  },
  {
   "cell_type": "code",
   "execution_count": 21,
   "id": "7d57e4c7-e649-4a57-a62d-c78f31a4a45e",
   "metadata": {},
   "outputs": [],
   "source": [
    "# print(all_count)"
   ]
  },
  {
   "cell_type": "code",
   "execution_count": 22,
   "id": "1b887e96-288e-4305-ac9d-46933db0a95f",
   "metadata": {},
   "outputs": [],
   "source": [
    "df = pd.DataFrame(all_count)"
   ]
  },
  {
   "cell_type": "code",
   "execution_count": 23,
   "id": "41d16304-ffc8-4d6c-9735-16ce18104d47",
   "metadata": {},
   "outputs": [],
   "source": [
    "df.to_csv('mineral country count.csv') "
   ]
  },
  {
   "cell_type": "code",
   "execution_count": null,
   "id": "eb002d39-67c7-4804-b28a-6cb3ffd5556a",
   "metadata": {},
   "outputs": [],
   "source": []
  }
 ],
 "metadata": {
  "kernelspec": {
   "display_name": "Python 3 (ipykernel)",
   "language": "python",
   "name": "python3"
  },
  "language_info": {
   "codemirror_mode": {
    "name": "ipython",
    "version": 3
   },
   "file_extension": ".py",
   "mimetype": "text/x-python",
   "name": "python",
   "nbconvert_exporter": "python",
   "pygments_lexer": "ipython3",
   "version": "3.8.12"
  }
 },
 "nbformat": 4,
 "nbformat_minor": 5
}
